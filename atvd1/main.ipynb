{
 "cells": [
  {
   "cell_type": "code",
   "execution_count": 1,
   "metadata": {},
   "outputs": [],
   "source": [
    "#definicoes\n",
    "\n",
    "import cv2 as cv\n",
    "from copy import deepcopy as dpcp\n",
    "\n",
    "class MyImage:\n",
    "    def __init__(self, filename):\n",
    "        self.name, self.ext = filename.split(\".\")\n",
    "        self.matrix = cv.imread(filename)\n",
    "        self.red = self.onlyColor(2)\n",
    "        self.green = self.onlyColor(1)\n",
    "        self.blue = self.onlyColor(0)\n",
    "        self.gray = self.toGray()\n",
    "\n",
    "    # gera imagens cinza, azul, verde e vermelho\n",
    "    def load(self):\n",
    "        cv.imwrite('Gray-' + self.name + '.png', self.gray)\n",
    "        cv.imwrite('Red-' + self.name + '.png', self.red)\n",
    "        cv.imwrite('Blue-' + self.name + '.png', self.blue)\n",
    "        cv.imwrite('Green-' + self.name + '.png', self.green)\n",
    "\n",
    "    def toGray(self):\n",
    "        m = dpcp(self.matrix) #copia da matriz original\n",
    "        for i in range(len(m)):\n",
    "            for j in range(len(m[i])):\n",
    "                m[i, j] = self.getGrayValue(m[i, j]) #encontra o valor em tom de cinza correspondente \n",
    "        return m\n",
    "    \n",
    "    # retorna o valor correspondente em escala de cinza, ajustados os pesos\n",
    "    def getGrayValue(self, rgb): \n",
    "        R = rgb[2]\n",
    "        G = rgb[1]\n",
    "        B = rgb[0]\n",
    "        return [0.2989 * R + 0.5870 * G + 0.1140 * B]\n",
    "\n",
    "    #retorna copia da matriz original com apenas a cor selecionada\n",
    "    def onlyColor(self, color): \n",
    "        m = dpcp(self.matrix) #copia da matriz original\n",
    "        for idx in [0, 1, 2]:\n",
    "            if idx == color:\n",
    "                continue\n",
    "            m[:, :, idx] = 0\n",
    "        return m\n"
   ]
  },
  {
   "cell_type": "code",
   "execution_count": 2,
   "metadata": {},
   "outputs": [],
   "source": [
    "img = MyImage('atvd1.png')\n",
    "img.load()"
   ]
  }
 ],
 "metadata": {
  "kernelspec": {
   "display_name": "Python 3",
   "language": "python",
   "name": "python3"
  },
  "language_info": {
   "codemirror_mode": {
    "name": "ipython",
    "version": 3
   },
   "file_extension": ".py",
   "mimetype": "text/x-python",
   "name": "python",
   "nbconvert_exporter": "python",
   "pygments_lexer": "ipython3",
   "version": "3.10.6"
  },
  "orig_nbformat": 4,
  "vscode": {
   "interpreter": {
    "hash": "e7370f93d1d0cde622a1f8e1c04877d8463912d04d973331ad4851f04de6915a"
   }
  }
 },
 "nbformat": 4,
 "nbformat_minor": 2
}
