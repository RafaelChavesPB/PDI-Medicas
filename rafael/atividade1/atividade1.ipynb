{
 "cells": [
  {
   "cell_type": "code",
   "execution_count": 26,
   "metadata": {},
   "outputs": [],
   "source": [
    "import cv2 as cv\n",
    "import numpy as np"
   ]
  },
  {
   "cell_type": "code",
   "execution_count": 27,
   "metadata": {},
   "outputs": [],
   "source": [
    "img = cv.imread('jp.jpg')\n",
    "blue = img.copy()\n",
    "red = img.copy()\n",
    "green = img.copy()\n",
    "gray = img.copy()"
   ]
  },
  {
   "cell_type": "code",
   "execution_count": 28,
   "metadata": {},
   "outputs": [],
   "source": [
    "def grayScale(colors):\n",
    "    return [0.2989*colors[2] + 0.587*colors[1] + 0.114*colors[0]]"
   ]
  },
  {
   "cell_type": "code",
   "execution_count": 29,
   "metadata": {},
   "outputs": [],
   "source": [
    "def toGray(img):\n",
    "    for i in range(len(img)):\n",
    "        for j in range(len(img[i])):\n",
    "            img[i, j] = grayScale(img[i, j])"
   ]
  },
  {
   "cell_type": "code",
   "execution_count": 30,
   "metadata": {},
   "outputs": [],
   "source": [
    "def onlyColor(img, idx_color):\n",
    "    for idx in [0, 1, 2]:\n",
    "        if idx == idx_color:\n",
    "            continue\n",
    "        img[:, :, idx] = 0"
   ]
  },
  {
   "cell_type": "code",
   "execution_count": 31,
   "metadata": {},
   "outputs": [
    {
     "data": {
      "text/plain": [
       "True"
      ]
     },
     "execution_count": 31,
     "metadata": {},
     "output_type": "execute_result"
    }
   ],
   "source": [
    "onlyColor(blue, 0)\n",
    "cv.imwrite('blue.png', blue)\n",
    "onlyColor(green, 1)\n",
    "cv.imwrite('green.png', green)\n",
    "onlyColor(red, 2)\n",
    "cv.imwrite('red.png', red)\n",
    "toGray(gray)\n",
    "cv.imwrite('gray.png', gray)\n"
   ]
  }
 ],
 "metadata": {
  "kernelspec": {
   "display_name": "venv",
   "language": "python",
   "name": "python3"
  },
  "language_info": {
   "codemirror_mode": {
    "name": "ipython",
    "version": 3
   },
   "file_extension": ".py",
   "mimetype": "text/x-python",
   "name": "python",
   "nbconvert_exporter": "python",
   "pygments_lexer": "ipython3",
   "version": "3.10.7"
  },
  "orig_nbformat": 4,
  "vscode": {
   "interpreter": {
    "hash": "2f08fdda8deddccdcf8983e2acd60d24f2d4a022fdd43338edaf2390cff6eeaf"
   }
  }
 },
 "nbformat": 4,
 "nbformat_minor": 2
}
