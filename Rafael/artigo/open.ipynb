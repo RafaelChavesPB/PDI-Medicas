{
 "cells": [
  {
   "cell_type": "code",
   "execution_count": null,
   "metadata": {},
   "outputs": [],
   "source": [
    "import os\n",
    "from utils.imageProcessing import *\n",
    "from utils.plotting import *\n",
    "from utils.dicomFiles import *\n",
    "\n",
    "pathA = './dicom-files/arq3/pt1'\n",
    "pathB = './dicom-files/arq2/pt1'\n",
    "\n",
    "patientA = readDicomFiles(pathA)\n",
    "patientB = readDicomFiles(pathB)\n",
    "\n",
    "slice = patientA[10].pixel_array\n",
    "\n",
    "slices = list(map(getImgFromDicomFile, patientB))"
   ]
  },
  {
   "cell_type": "code",
   "execution_count": null,
   "metadata": {},
   "outputs": [],
   "source": [
    "slice = 120\n",
    "mask = identifyVentricle(slices[slice]) \n",
    "compareTwoImages(mask, slices[slice], (20,20))\n",
    "plotImage(drawContour(slices[slice], mask))\n",
    "plotImage(cv2.bitwise_and(slices[slice],slices[slice], mask=mask), (20,20))\n"
   ]
  },
  {
   "cell_type": "code",
   "execution_count": null,
   "metadata": {},
   "outputs": [],
   "source": [
    "#for i in range(512, 4096, 512):\n",
    "# windowed = applyWindow(slice, 3070, 6030, stick=True)\n",
    "# plotImage(windowed)"
   ]
  }
 ],
 "metadata": {
  "kernelspec": {
   "display_name": "Python 3",
   "language": "python",
   "name": "python3"
  },
  "language_info": {
   "codemirror_mode": {
    "name": "ipython",
    "version": 3
   },
   "file_extension": ".py",
   "mimetype": "text/x-python",
   "name": "python",
   "nbconvert_exporter": "python",
   "pygments_lexer": "ipython3",
   "version": "3.6.14"
  },
  "orig_nbformat": 4
 },
 "nbformat": 4,
 "nbformat_minor": 2
}
