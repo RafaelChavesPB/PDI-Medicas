{
 "cells": [
  {
   "cell_type": "code",
   "execution_count": 1,
   "metadata": {},
   "outputs": [],
   "source": [
    "import pydicom\n",
    "import numpy as np\n",
    "import matplotlib.pyplot as plt\n",
    "import os\n",
    "import cv2"
   ]
  },
  {
   "cell_type": "code",
   "execution_count": 2,
   "metadata": {},
   "outputs": [],
   "source": [
    "# load the DICOM files\n",
    "dcm_path = './dicom-files/arq3/pt2'\n",
    "\n",
    "files = []\n",
    "\n",
    "for f in os.listdir(dcm_path):\n",
    "    filename = os.path.join(dcm_path, f)\n",
    "    if filename[-3:] == 'dcm':\n",
    "        files.append(pydicom.dcmread(filename))"
   ]
  },
  {
   "cell_type": "code",
   "execution_count": 3,
   "metadata": {},
   "outputs": [],
   "source": [
    "# skip files with no SliceLocation (eg scout views)\n",
    "slices = []\n",
    "skipcount = 0\n",
    "for f in files:\n",
    "    if hasattr(f, 'SliceLocation'):\n",
    "        slices.append(f)\n",
    "    else:\n",
    "        skipcount = skipcount + 1\n",
    "\n",
    "# ensure they are in the correct order\n",
    "slices = sorted(slices, key=lambda s: s.SliceLocation)\n"
   ]
  },
  {
   "cell_type": "code",
   "execution_count": 4,
   "metadata": {},
   "outputs": [
    {
     "name": "stdout",
     "output_type": "stream",
     "text": [
      "12\n"
     ]
    },
    {
     "name": "stderr",
     "output_type": "stream",
     "text": [
      "/home/rafael/Workspace/PDI-Medicas/Rafael/artigo/venv/lib/python3.11/site-packages/pydicom/pixel_data_handlers/pillow_handler.py:238: UserWarning: The (0028,0101) 'Bits Stored' value (12-bit) doesn't match the JPEG 2000 data (11-bit). It's recommended that you change the 'Bits Stored' value\n",
      "  warnings.warn(\n"
     ]
    }
   ],
   "source": [
    "# Creating 3D representation of scan with the slice set\n",
    "bit_deph = slices[0].BitsStored\n",
    "print(bit_deph)\n",
    "rep3d_shape = [*slices[0].pixel_array.shape, len(slices)]\n",
    "rep3d = np.zeros(rep3d_shape)\n",
    "for idx, slice in enumerate(slices):\n",
    "    img = slice.pixel_array.copy()\n",
    "    img *= (1 << 4)\n",
    "    rep3d[:, :, idx] = img\n",
    "\n",
    "resize_factor = 512/rep3d_shape[-1]"
   ]
  },
  {
   "cell_type": "code",
   "execution_count": 5,
   "metadata": {},
   "outputs": [],
   "source": [
    "idx = 150\n",
    "pv0 = np.array(rep3d[:,:,int(idx/resize_factor)], dtype=np.uint16)\n",
    "pv1 = np.array(rep3d[:,idx,:], dtype=np.uint16)\n",
    "pv2 = np.array(rep3d[idx,:,:], dtype=np.uint16)\n",
    "pv1 = cv2.resize(pv1, (512, 512), interpolation=cv2.INTER_AREA)\n",
    "pv2 = cv2.resize(pv2, (512, 512), interpolation=cv2.INTER_AREA)"
   ]
  },
  {
   "cell_type": "code",
   "execution_count": 6,
   "metadata": {},
   "outputs": [
    {
     "data": {
      "text/plain": [
       "((512, 512), (512, 512), (512, 512), (512, 512))"
      ]
     },
     "execution_count": 6,
     "metadata": {},
     "output_type": "execute_result"
    }
   ],
   "source": [
    "pv0.shape, pv1.shape, pv2.shape"
   ]
  },
  {
   "cell_type": "code",
   "execution_count": 19,
   "metadata": {},
   "outputs": [],
   "source": [
    "mask = cv2.inRange(pv0, 20480, 1 << 16 -1)\n",
    "cv2.imshow('window', cv2.bitwise_and(pv0, pv0, mask = mask))\n",
    "cv2.waitKey(0)\n",
    "cv2.destroyAllWindows()"
   ]
  },
  {
   "cell_type": "code",
   "execution_count": null,
   "metadata": {},
   "outputs": [],
   "source": [
    "# for ini in range(0, 1 << 16 - 1, 2048):\n",
    "#     print(ini)\n",
    "#     mask = cv2.inRange(pv2, ini, 1 << 16 - 1)\n",
    "#     cv2.imshow('window', mask)\n",
    "#     cv2.waitKey(0)\n",
    "#     cv2.destroyAllWindows()"
   ]
  },
  {
   "cell_type": "code",
   "execution_count": null,
   "metadata": {},
   "outputs": [],
   "source": [
    "\n",
    "# cv2.imshow('window', pv1)\n",
    "# cv2.waitKey(0)\n",
    "# cv2.destroyAllWindows()\n",
    "# cv2.imshow('window', pv2)\n",
    "# cv2.waitKey(0)\n",
    "# cv2.destroyAllWindows()"
   ]
  }
 ],
 "metadata": {
  "kernelspec": {
   "display_name": "venv",
   "language": "python",
   "name": "python3"
  },
  "language_info": {
   "codemirror_mode": {
    "name": "ipython",
    "version": 3
   },
   "file_extension": ".py",
   "mimetype": "text/x-python",
   "name": "python",
   "nbconvert_exporter": "python",
   "pygments_lexer": "ipython3",
   "version": "3.11.3"
  },
  "orig_nbformat": 4
 },
 "nbformat": 4,
 "nbformat_minor": 2
}
