{
 "cells": [
  {
   "cell_type": "code",
   "execution_count": null,
   "metadata": {},
   "outputs": [],
   "source": [
    "import os\n",
    "import open3d as o3d\n",
    "from utils.imageProcessing import *\n",
    "from utils.dicomFiles import *\n",
    "from utils.plotting import *"
   ]
  },
  {
   "cell_type": "code",
   "execution_count": null,
   "metadata": {},
   "outputs": [],
   "source": [
    "# load the DICOM files\n",
    "dcm_path = './dicom-files/arq3/pt2'\n",
    "\n",
    "files = []\n",
    "\n",
    "for f in os.listdir(dcm_path):\n",
    "    filename = os.path.join(dcm_path, f)\n",
    "    if filename[-3:] == 'dcm':\n",
    "        files.append(pydicom.dcmread(filename))\n",
    "\n",
    "# skip files with no SliceLocation (eg scout views)\n",
    "\n",
    "slices = []\n",
    "skipcount = 0\n",
    "for f in files:\n",
    "    if hasattr(f, 'SliceLocation'):\n",
    "        slices.append(f)\n",
    "    else:\n",
    "        skipcount = skipcount + 1\n",
    "\n",
    "slices = list(map(getImgFromDicomFile, sorted(slices, key=lambda s: s.SliceLocation)))"
   ]
  },
  {
   "cell_type": "code",
   "execution_count": null,
   "metadata": {},
   "outputs": [],
   "source": [
    "original = slices[85]\n",
    "mask = identifyVentricle(original)\n",
    "contour_image = drawContour(original.copy(), mask)\n",
    "compareTwoImages(mask, contour_image)"
   ]
  },
  {
   "cell_type": "code",
   "execution_count": null,
   "metadata": {},
   "outputs": [],
   "source": [
    "vertex = []\n",
    "for Z in range(len(slices)):\n",
    "    mask = identifyVentricle(slices[Z])\n",
    "    edges =  cv2.Canny(mask, 85, 200)\n",
    "    points = edges\n",
    "    for X in range(len(points)):\n",
    "        for Y in range(len(points[X])):\n",
    "                if points[X][Y] == 255:\n",
    "                    vertex.append((X,Y,5*Z))\n",
    "vertex = np.array(vertex, dtype=np.float64)\n",
    "x = vertex[:, 0]\n",
    "y = vertex[:, 1]\n",
    "z = vertex[:, 2]\n",
    "len(z)"
   ]
  },
  {
   "cell_type": "code",
   "execution_count": null,
   "metadata": {},
   "outputs": [],
   "source": [
    "pcd = o3d.geometry.PointCloud()\n",
    "pcd.points = o3d.utility.Vector3dVector(vertex)\n",
    "o3d.visualization.draw_geometries([pcd])\n"
   ]
  }
 ],
 "metadata": {
  "kernelspec": {
   "display_name": "venv",
   "language": "python",
   "name": "python3"
  },
  "language_info": {
   "codemirror_mode": {
    "name": "ipython",
    "version": 3
   },
   "file_extension": ".py",
   "mimetype": "text/x-python",
   "name": "python",
   "nbconvert_exporter": "python",
   "pygments_lexer": "ipython3",
   "version": "3.6.-1"
  },
  "orig_nbformat": 4
 },
 "nbformat": 4,
 "nbformat_minor": 2
}
