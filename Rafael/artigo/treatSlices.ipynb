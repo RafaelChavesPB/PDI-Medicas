{
 "cells": [
  {
   "cell_type": "code",
   "execution_count": 14,
   "metadata": {},
   "outputs": [],
   "source": [
    "import pydicom\n",
    "import numpy as np\n",
    "import matplotlib.pyplot as plt\n",
    "import os\n",
    "import cv2\n",
    "from collections import deque\n",
    "import open3d as o3d"
   ]
  },
  {
   "cell_type": "code",
   "execution_count": 2,
   "metadata": {},
   "outputs": [],
   "source": [
    "big = (20,20)\n",
    "mid = (15,15)\n",
    "small = (10,10)"
   ]
  },
  {
   "cell_type": "code",
   "execution_count": 3,
   "metadata": {},
   "outputs": [],
   "source": [
    "def plotImage(img, size=(5, 5), title='window'):\n",
    "    plt.figure(figsize=size)\n",
    "    plt.imshow(img, cmap='gray')\n",
    "\n",
    "def showImage(img, title=''):\n",
    "    cv2.imshow(title, img)\n",
    "    cv2.waitKey(0)\n",
    "    cv2.destroyAllWindows()\n",
    "\n",
    "def compareTwoImages(a, b, size=(10, 10)):\n",
    "    fig, ax = plt.subplots(nrows=1, ncols=2, figsize=size)\n",
    "    ax[0].imshow(a, cmap='gray')\n",
    "    ax[1].imshow(b, cmap='gray')\n",
    "    plt.show()\n",
    "\n",
    "\n",
    "def plotHistogram(src):\n",
    "    val, count = np.unique(src, return_counts=True)\n",
    "    plt.plot(val, count)\n",
    "    plt.show()"
   ]
  },
  {
   "cell_type": "code",
   "execution_count": 4,
   "metadata": {},
   "outputs": [],
   "source": [
    "def applyWindow(src, start, end=None, stick=True, dtype=None):\n",
    "    if dtype is None:\n",
    "        dtype = src.dtype\n",
    "    currWindowWidth = np.iinfo(dtype).max + 1\n",
    "    if end is None:\n",
    "        end = np.max(src)\n",
    "    newWindowWidth = end - start + 1\n",
    "    widthMultiplier = currWindowWidth/newWindowWidth\n",
    "    dst = src.astype('float128')\n",
    "    dst[dst < start] = start\n",
    "    dst[dst > end] = end if stick else start\n",
    "    dst -= start\n",
    "    dst *= widthMultiplier\n",
    "    return dst.astype(src.dtype)\n",
    "\n",
    "\n",
    "def applyBandpassFilter(src, start, end=None, plot=False):\n",
    "    if end is None:\n",
    "        end = np.max(src)\n",
    "    whitePixelValue = np.iinfo(src.dtype).max\n",
    "    dst = src.copy()\n",
    "    dst[(src < start) | (src > end)] = 0\n",
    "    dst[(start <= src) & (src <= end)] = whitePixelValue\n",
    "    if plot:\n",
    "        compareTwoImages(src, dst)\n",
    "    return dst\n",
    "\n",
    "\n",
    "def changeImgBitDepth(src, currDepth=12):\n",
    "    if currDepth is None:\n",
    "        currWindowWidth = np.iinfo(src.dtype).max+1\n",
    "    else:\n",
    "        currWindowWidth = 1 << currDepth\n",
    "    newDepth = 8\n",
    "    newWindowWidth = 1 << newDepth\n",
    "    widthMultiplier = newWindowWidth/currWindowWidth\n",
    "    dst = src.astype(np.float128)\n",
    "    def valueAdjust(value): return np.uint8(value*widthMultiplier)\n",
    "    dst = valueAdjust(dst).astype(np.uint8)\n",
    "    return dst\n",
    "\n",
    "\n",
    "def getImgFromDicom(dicomFile):\n",
    "    BEGIN_USEFUL_WINDOW, END_USEFUL_WINDOW = 944, 1200\n",
    "    img = dicomFile.pixel_array\n",
    "    return changeImgBitDepth(applyWindow(img, BEGIN_USEFUL_WINDOW, END_USEFUL_WINDOW, dtype=np.uint8), 8)\n",
    "\n",
    "\n",
    "def getElement(element=cv2.MORPH_RECT, size=(3, 3)):\n",
    "    return cv2.getStructuringElement(element, size)"
   ]
  },
  {
   "cell_type": "code",
   "execution_count": 5,
   "metadata": {},
   "outputs": [
    {
     "name": "stderr",
     "output_type": "stream",
     "text": [
      "/home/rafael/.asdf/installs/python/3.6.14/lib/python3.6/site-packages/pydicom/pixel_data_handlers/pillow_handler.py:239: UserWarning: The (0028,0101) 'Bits Stored' value (12-bit) doesn't match the JPEG 2000 data (11-bit). It's recommended that you change the 'Bits Stored' value\n",
      "  f\"The (0028,0101) 'Bits Stored' value ({bits_stored}-bit) \"\n"
     ]
    }
   ],
   "source": [
    "# load the DICOM files\n",
    "dcm_path = './dicom-files/arq3/pt2'\n",
    "\n",
    "files = []\n",
    "\n",
    "for f in os.listdir(dcm_path):\n",
    "    filename = os.path.join(dcm_path, f)\n",
    "    if filename[-3:] == 'dcm':\n",
    "        files.append(pydicom.dcmread(filename))\n",
    "\n",
    "# skip files with no SliceLocation (eg scout views)\n",
    "\n",
    "slices = []\n",
    "skipcount = 0\n",
    "for f in files:\n",
    "    if hasattr(f, 'SliceLocation'):\n",
    "        slices.append(f)\n",
    "    else:\n",
    "        skipcount = skipcount + 1\n",
    "\n",
    "slices = list(map(getImgFromDicom, sorted(slices, key=lambda s: s.SliceLocation)))"
   ]
  },
  {
   "cell_type": "code",
   "execution_count": 6,
   "metadata": {},
   "outputs": [],
   "source": [
    "dir = [(i, j) for i in (-1, 0, 1) for j in (-1, 0, 1) if i or j]\n",
    "WHITE = 255\n",
    "\n",
    "\n",
    "def countGroupMembers(startR, startC, mark, img, groupMarker):\n",
    "    counter = 0\n",
    "    queue = deque()\n",
    "    queue.append((startR, startC))\n",
    "    while (len(queue)):\n",
    "        r, c = queue.popleft()\n",
    "        for dr, dc in dir:\n",
    "            nr = dr + r\n",
    "            nc = dc + c\n",
    "            if nr < 0 or img.shape[0] <= nr:\n",
    "                continue\n",
    "            if nc < 0 or img.shape[1] <= nc:\n",
    "                continue\n",
    "            if groupMarker[nr][nc] != 0 or img[nr][nc] != WHITE:\n",
    "                continue\n",
    "            queue.append((nr, nc))\n",
    "            groupMarker[nr][nc] = mark\n",
    "            counter += 1\n",
    "    return counter\n",
    "\n",
    "\n",
    "def removeSmallGroups(mask, threshhold=50):\n",
    "    newMask = mask.copy()\n",
    "    groupMarker = np.zeros(mask.shape)\n",
    "    mark = 1\n",
    "    for R in range(mask.shape[0]):\n",
    "        for C in range(mask.shape[1]):\n",
    "            if groupMarker[R][C] != 0 or mask[R][C] != WHITE:\n",
    "                continue\n",
    "            members = countGroupMembers(R, C, mark, mask, groupMarker)\n",
    "            if members < threshhold:\n",
    "                newMask[groupMarker == mark] = 1\n",
    "            mark += 1\n",
    "    return newMask\n",
    "\n",
    "\n",
    "def bfs(startR, startC, startInterval, endInterval, img, mask, visited):\n",
    "    queue = deque()\n",
    "    queue.append((startR, startC))\n",
    "    while (len(queue)):\n",
    "        r, c = queue.popleft()\n",
    "        for dr, dc in dir:\n",
    "            nr = dr + r\n",
    "            nc = dc + c\n",
    "            if nr < 0 or img.shape[0] <= nr:\n",
    "                continue\n",
    "            if nc < 0 or img.shape[1] <= nc:\n",
    "                continue\n",
    "            if visited[nr][nc] != 0:\n",
    "                continue\n",
    "            if img[nc][nc] < startInterval or endInterval < img[nr][nc]:\n",
    "                continue\n",
    "            queue.append((nr, nc))\n",
    "            mask[nr][nc] = WHITE\n",
    "            visited[nr][nc] = 1\n",
    "\n",
    "\n",
    "def floodFill(startInterval, endInterval, img, mask):\n",
    "    newMask = mask.copy()\n",
    "    visited = np.zeros(newMask.shape)\n",
    "    for R in range(newMask.shape[0]):\n",
    "        for C in range(newMask.shape[1]):\n",
    "            if visited[R][C] != 0 or newMask[R][C] != WHITE:\n",
    "                continue\n",
    "            bfs(R, C, startInterval, endInterval, img, newMask, visited)\n",
    "    return newMask"
   ]
  },
  {
   "cell_type": "code",
   "execution_count": 7,
   "metadata": {},
   "outputs": [
    {
     "data": {
      "image/png": "[encoded data removed]",
      "text/plain": [
       "<Figure size 720x720 with 2 Axes>"
      ]
     },
     "metadata": {
      "needs_background": "light"
     },
     "output_type": "display_data"
    }
   ],
   "source": [
    "def drawContour(img, mask):\n",
    "    edges =  cv2.Canny(mask, 85, 200)\n",
    "    contours, _ = cv2.findContours(edges, cv2.RETR_EXTERNAL, cv2.INTERSECT_FULL)\n",
    "    contour_image = cv2.drawContours(img, contours, -1, (0, 255, 0), 2)\n",
    "    return contour_image\n",
    "\n",
    "def identifyVentricle(original):\n",
    "    BEGIN_BONE_WINDOW, END_BONE_WINDOW = 220, 256\n",
    "    boneMask = applyBandpassFilter(original, BEGIN_BONE_WINDOW, END_BONE_WINDOW)\n",
    "    maskToRemoveBone = cv2.erode(cv2.bitwise_not(boneMask), getElement(cv2.MORPH_RECT), iterations=40)\n",
    "\n",
    "    BEGIN_VENTRICLE_WINDOW, END_VENTRICLE_WINDOW = 70, 100\n",
    "    rawVentricleMask = applyBandpassFilter(original, BEGIN_VENTRICLE_WINDOW, END_VENTRICLE_WINDOW)\n",
    "    rawVentricleMaskWithoutBone = cv2.bitwise_and(rawVentricleMask, maskToRemoveBone)\n",
    "    areaOfInterest = cv2.erode(rawVentricleMaskWithoutBone, getElement(cv2.MORPH_RECT, (3,3)), iterations=3)\n",
    "    areaOfInterest = cv2.dilate(areaOfInterest, getElement(cv2.MORPH_CROSS, (7,7)), iterations=20)\n",
    "    ventricleMask = cv2.bitwise_and(rawVentricleMaskWithoutBone, areaOfInterest)\n",
    "    ventricleMask = floodFill(BEGIN_VENTRICLE_WINDOW, END_VENTRICLE_WINDOW, original, ventricleMask)\n",
    "    ventricleMask = removeSmallGroups(ventricleMask, 100)\n",
    "    return ventricleMask\n",
    "\n",
    "original = slices[85]\n",
    "mask = identifyVentricle(original)\n",
    "contour_image = drawContour(original.copy(), mask)\n",
    "compareTwoImages(mask, contour_image)"
   ]
  },
  {
   "cell_type": "code",
   "execution_count": 27,
   "metadata": {},
   "outputs": [
    {
     "data": {
      "text/plain": [
       "109015"
      ]
     },
     "execution_count": 27,
     "metadata": {},
     "output_type": "execute_result"
    }
   ],
   "source": [
    "vertex = []\n",
    "for Z in range(65,135):\n",
    "    mask = identifyVentricle(slices[Z])\n",
    "#    showImage(mask, f'mask{Z}')    \n",
    "    # edges =  cv2.Canny(mask, 85, 200)\n",
    "    points = mask\n",
    "#    showImage(edges, f'edges{Z}')    \n",
    "    for X in range(len(points)):\n",
    "        for Y in range(len(points[X])):\n",
    "                if points[X][Y] == 255:\n",
    "                    vertex.append((X,Y,Z))\n",
    "vertex = np.array(vertex, dtype=np.float64)\n",
    "x = vertex[:, 0]\n",
    "y = vertex[:, 1]\n",
    "z = vertex[:, 2]\n",
    "len(z)"
   ]
  },
  {
   "cell_type": "code",
   "execution_count": 29,
   "metadata": {},
   "outputs": [],
   "source": [
    "vertex[:,2]*=5"
   ]
  },
  {
   "cell_type": "code",
   "execution_count": null,
   "metadata": {},
   "outputs": [],
   "source": [
    "# Create an empty PointCloud object\n",
    "pcd = o3d.geometry.PointCloud()\n",
    "\n",
    "# Assign the NumPy array to the points attribute\n",
    "pcd.points = o3d.utility.Vector3dVector(vertex)\n",
    "\n",
    "# Visualize the PointCloud\n",
    "o3d.visualization.draw_geometries([pcd])\n"
   ]
  },
  {
   "cell_type": "code",
   "execution_count": 15,
   "metadata": {},
   "outputs": [
    {
     "name": "stdout",
     "output_type": "stream",
     "text": [
      "Load a ply point cloud, print it, and render it\n",
      "[Open3D INFO] Downloading https://github.com/isl-org/open3d_downloads/releases/download/20220201-data/fragment.ply\n",
      "[Open3D INFO] Downloaded to /home/rafael/open3d_data/download/PLYPointCloud/fragment.ply\n",
      "PointCloud with 196133 points.\n",
      "[[0.65234375 0.84686458 2.37890625]\n",
      " [0.65234375 0.83984375 2.38430572]\n",
      " [0.66737998 0.83984375 2.37890625]\n",
      " ...\n",
      " [2.00839925 2.39453125 1.88671875]\n",
      " [2.00390625 2.39488506 1.88671875]\n",
      " [2.00390625 2.39453125 1.88793314]]\n"
     ]
    },
    {
     "ename": "KeyboardInterrupt",
     "evalue": "",
     "output_type": "error",
     "traceback": [
      "\u001b[0;31m---------------------------------------------------------------------------\u001b[0m",
      "\u001b[0;31mKeyboardInterrupt\u001b[0m                         Traceback (most recent call last)",
      "\u001b[0;32m<ipython-input-15-abd5256608b9>\u001b[0m in \u001b[0;36m<module>\u001b[0;34m\u001b[0m\n\u001b[1;32m     17\u001b[0m                                   \u001b[0mfront\u001b[0m\u001b[0;34m=\u001b[0m\u001b[0;34m[\u001b[0m\u001b[0;36m0.4257\u001b[0m\u001b[0;34m,\u001b[0m \u001b[0;34m-\u001b[0m\u001b[0;36m0.2125\u001b[0m\u001b[0;34m,\u001b[0m \u001b[0;34m-\u001b[0m\u001b[0;36m0.8795\u001b[0m\u001b[0;34m]\u001b[0m\u001b[0;34m,\u001b[0m\u001b[0;34m\u001b[0m\u001b[0;34m\u001b[0m\u001b[0m\n\u001b[1;32m     18\u001b[0m                                   \u001b[0mlookat\u001b[0m\u001b[0;34m=\u001b[0m\u001b[0;34m[\u001b[0m\u001b[0;36m2.6172\u001b[0m\u001b[0;34m,\u001b[0m \u001b[0;36m2.0475\u001b[0m\u001b[0;34m,\u001b[0m \u001b[0;36m1.532\u001b[0m\u001b[0;34m]\u001b[0m\u001b[0;34m,\u001b[0m\u001b[0;34m\u001b[0m\u001b[0;34m\u001b[0m\u001b[0m\n\u001b[0;32m---> 19\u001b[0;31m                                   up=[-0.0694, -0.9768, 0.2024])\n\u001b[0m",
      "\u001b[0;31mKeyboardInterrupt\u001b[0m: "
     ]
    }
   ],
   "source": [
    "# fig = plt.figure()\n",
    "# for i in  range(0, 360, 45):\n",
    "#     ax = plt.axes(projection='3d')\n",
    "#     ax.view_init(azim=i)\n",
    "#     ax.scatter(x, y, z, s=0.5)\n",
    "#     ax.set_xlabel('x')\n",
    "#     ax.set_ylabel('y')\n",
    "#     ax.set_zlabel('z')\n",
    "#     plt.show()\n",
    "print(\"Load a ply point cloud, print it, and render it\")\n",
    "ply_point_cloud = o3d.data.PLYPointCloud()\n",
    "pcd = o3d.io.read_point_cloud(ply_point_cloud.path)\n",
    "print(pcd)\n",
    "print(np.asarray(pcd.points))\n",
    "o3d.visualization.draw_geometries([pcd],\n",
    "                                  zoom=0.3412,\n",
    "                                  front=[0.4257, -0.2125, -0.8795],\n",
    "                                  lookat=[2.6172, 2.0475, 1.532],\n",
    "                                  up=[-0.0694, -0.9768, 0.2024])"
   ]
  }
 ],
 "metadata": {
  "kernelspec": {
   "display_name": "venv",
   "language": "python",
   "name": "python3"
  },
  "language_info": {
   "codemirror_mode": {
    "name": "ipython",
    "version": 3
   },
   "file_extension": ".py",
   "mimetype": "text/x-python",
   "name": "python",
   "nbconvert_exporter": "python",
   "pygments_lexer": "ipython3",
   "version": "3.6.14"
  },
  "orig_nbformat": 4
 },
 "nbformat": 4,
 "nbformat_minor": 2
}
