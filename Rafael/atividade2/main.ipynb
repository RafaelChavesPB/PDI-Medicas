{
 "cells": [
  {
   "cell_type": "code",
   "execution_count": 20,
   "metadata": {},
   "outputs": [],
   "source": [
    "import cv2\n",
    "import numpy as np\n",
    "from statistics import mean, median"
   ]
  },
  {
   "cell_type": "code",
   "execution_count": 21,
   "metadata": {},
   "outputs": [],
   "source": [
    "def calculateSpatialInfo(img: np.ndarray) -> float:\n",
    "    \"\"\"\n",
    "    Calculate spatial information from a grayscale image using Sobel filters.\n",
    "\n",
    "    Args:\n",
    "        img: A grayscale image as a numpy array.\n",
    "\n",
    "    Returns:\n",
    "        The spatial information as a float.\n",
    "    \"\"\"\n",
    "    sh = cv2.Sobel(img, cv2.CV_64F, 1, 0, ksize=1)\n",
    "    sv = cv2.Sobel(img, cv2.CV_64F, 0, 1, ksize=1)\n",
    "\n",
    "    sobel_image = np.sqrt(np.square(sh) + np.square(sv))\n",
    "\n",
    "    si_mean = np.sum(sobel_image) / (sobel_image.shape[0] * sobel_image.shape[1])\n",
    "    si_rms = np.sqrt(np.sum(sobel_image ** 2) / (sobel_image.shape[0] * sobel_image.shape[1]))\n",
    "    si_stdev = np.sqrt(np.sum(sobel_image ** 2 - si_mean ** 2) / (sobel_image.shape[0] * sobel_image.shape[1]))\n",
    "\n",
    "    return si_stdev"
   ]
  },
  {
   "cell_type": "code",
   "execution_count": 22,
   "metadata": {},
   "outputs": [
    {
     "name": "stdout",
     "output_type": "stream",
     "text": [
      "Spatial Info of A: 20.65579411743317\n",
      "Spatial Info of B: 23.20730158646722\n",
      "Spatial Info of C: 45.468247897791535\n"
     ]
    }
   ],
   "source": [
    "a_gray = cv2.imread('images/a.jpg',cv2.IMREAD_GRAYSCALE)\n",
    "b_gray = cv2.imread('images/b.jpg',cv2.IMREAD_GRAYSCALE)\n",
    "c_gray = cv2.imread('images/c.jpg',cv2.IMREAD_GRAYSCALE)\n",
    "print(f'Spatial Info of A: {calculateSpatialInfo(a_gray)}')\n",
    "print(f'Spatial Info of B: {calculateSpatialInfo(b_gray)}')\n",
    "print(f'Spatial Info of C: {calculateSpatialInfo(c_gray)}')"
   ]
  },
  {
   "cell_type": "code",
   "execution_count": 23,
   "metadata": {},
   "outputs": [],
   "source": [
    "a = cv2.imread('images/a.jpg')\n",
    "b = cv2.imread('images/b.jpg')\n",
    "c = cv2.imread('images/c.jpg')"
   ]
  },
  {
   "cell_type": "code",
   "execution_count": 24,
   "metadata": {},
   "outputs": [],
   "source": [
    "def resizeImage(original: np.ndarray, x_rate: float, y_rate: float) -> np.ndarray:\n",
    "    shape = list(original.shape)\n",
    "    shape[0] = int(shape[0]*x_rate)\n",
    "    shape[1] = int(shape[1]*y_rate)\n",
    "    resized = np.zeros(shape)\n",
    "    for i in range(shape[0]):\n",
    "        for j in range(shape[1]):\n",
    "            orig_i, orig_j = int(i/x_rate),int(j/y_rate)\n",
    "            resized[i][j] = [*original[orig_i][orig_j]]\n",
    "    return resized\n"
   ]
  },
  {
   "cell_type": "code",
   "execution_count": 25,
   "metadata": {},
   "outputs": [
    {
     "data": {
      "text/plain": [
       "True"
      ]
     },
     "execution_count": 25,
     "metadata": {},
     "output_type": "execute_result"
    }
   ],
   "source": [
    "a_resized = resizeImage(a, 2, 2)\n",
    "cv2.imwrite('images/a_resized.jpg', a_resized)\n",
    "b_resized = resizeImage(b, 2, 2)\n",
    "cv2.imwrite('images/b_resized.jpg', b_resized)\n",
    "c_resized = resizeImage(c, 2, 2)\n",
    "cv2.imwrite('images/c_resized.jpg', c_resized)"
   ]
  },
  {
   "cell_type": "code",
   "execution_count": 26,
   "metadata": {},
   "outputs": [],
   "source": [
    "def getNeighbour(image: np.ndarray, i: int, j: int) -> list:\n",
    "    neighbour = [[], [], []]\n",
    "    shape = image.shape\n",
    "    for di, dj in [(0, 1), (0, -1), (1, 0), (-1, 0), (1, 1), (-1, -1), (1, -1), (-1, 1)]:\n",
    "        curr_i = i + di\n",
    "        curr_j = j + dj\n",
    "        if curr_i < 0 or curr_i >= shape[0]:\n",
    "            continue\n",
    "        if curr_j < 0 or curr_j >= shape[1]:\n",
    "            continue\n",
    "        for color in [0, 1, 2]:\n",
    "            neighbour[color].append(image[curr_i][curr_j][color])\n",
    "    return neighbour\n"
   ]
  },
  {
   "cell_type": "code",
   "execution_count": 27,
   "metadata": {},
   "outputs": [],
   "source": [
    "def polishingImage(resized: np.ndarray, func: callable) -> np.ndarray:\n",
    "    shape = resized.shape\n",
    "    polished = np.zeros(shape)\n",
    "    for i in range(shape[0]):\n",
    "        for j in range(shape[1]):\n",
    "            neighbour = getNeighbour(resized, i, j)\n",
    "            polished[i][j] = [func(neighbour[0]), func(neighbour[1]), func(neighbour[2])]\n",
    "    return polished"
   ]
  },
  {
   "cell_type": "code",
   "execution_count": 28,
   "metadata": {},
   "outputs": [],
   "source": [
    "a_polished = polishingImage(a_resized, median)\n",
    "cv2.imwrite('images/a_polished.jpg', a_polished)\n",
    "b_polished = polishingImage(b_resized, median)\n",
    "cv2.imwrite('images/b_polished.jpg', b_polished)\n",
    "c_polished = polishingImage(c_resized, median)\n",
    "cv2.imwrite('images/c_polished.jpg', c_polished)"
   ]
  }
 ],
 "metadata": {
  "kernelspec": {
   "display_name": "venv",
   "language": "python",
   "name": "python3"
  },
  "language_info": {
   "codemirror_mode": {
    "name": "ipython",
    "version": 3
   },
   "file_extension": ".py",
   "mimetype": "text/x-python",
   "name": "python",
   "nbconvert_exporter": "python",
   "pygments_lexer": "ipython3",
   "version": "3.8.10"
  },
  "orig_nbformat": 4,
  "vscode": {
   "interpreter": {
    "hash": "9d28dfbdd864a6be49342349cf0f8414a21fdcf814786658a22b22d58aa92548"
   }
  }
 },
 "nbformat": 4,
 "nbformat_minor": 2
}
