{
 "cells": [
  {
   "cell_type": "code",
   "execution_count": 107,
   "metadata": {},
   "outputs": [],
   "source": [
    "import cv2\n",
    "import numpy as np"
   ]
  },
  {
   "cell_type": "code",
   "execution_count": 108,
   "metadata": {},
   "outputs": [],
   "source": [
    "def calculateSpatialInfo(img: np.ndarray) -> float:\n",
    "    \"\"\"\n",
    "    Calculate spatial information from a grayscale image using Sobel filters.\n",
    "\n",
    "    Args:\n",
    "        img: A grayscale image as a numpy array.\n",
    "\n",
    "    Returns:\n",
    "        The spatial information as a float.\n",
    "    \"\"\"\n",
    "    sh = cv2.Sobel(img, cv2.CV_64F, 1, 0, ksize=1)\n",
    "    sv = cv2.Sobel(img, cv2.CV_64F, 0, 1, ksize=1)\n",
    "\n",
    "    sobel_image = np.sqrt(np.square(sh) + np.square(sv))\n",
    "\n",
    "    si_mean = np.sum(sobel_image) / (sobel_image.shape[0] * sobel_image.shape[1])\n",
    "    si_rms = np.sqrt(np.sum(sobel_image ** 2) / (sobel_image.shape[0] * sobel_image.shape[1]))\n",
    "    si_stdev = np.sqrt(np.sum(sobel_image ** 2 - si_mean ** 2) / (sobel_image.shape[0] * sobel_image.shape[1]))\n",
    "\n",
    "    return si_stdev"
   ]
  },
  {
   "cell_type": "code",
   "execution_count": 109,
   "metadata": {},
   "outputs": [
    {
     "name": "stdout",
     "output_type": "stream",
     "text": [
      "Spatial Info of A: 20.65579411743317\n",
      "Spatial Info of B: 23.20730158646722\n",
      "Spatial Info of C: 45.468247897791535\n"
     ]
    }
   ],
   "source": [
    "a_gray = cv2.imread('images/a.jpg',cv2.IMREAD_GRAYSCALE)\n",
    "b_gray = cv2.imread('images/b.jpg',cv2.IMREAD_GRAYSCALE)\n",
    "c_gray = cv2.imread('images/c.jpg',cv2.IMREAD_GRAYSCALE)\n",
    "print(f'Spatial Info of A: {calculateSpatialInfo(a_gray)}')\n",
    "print(f'Spatial Info of B: {calculateSpatialInfo(b_gray)}')\n",
    "print(f'Spatial Info of C: {calculateSpatialInfo(c_gray)}')"
   ]
  },
  {
   "cell_type": "code",
   "execution_count": 110,
   "metadata": {},
   "outputs": [],
   "source": [
    "a = cv2.imread('images/a.jpg')\n",
    "b = cv2.imread('images/b.jpg')\n",
    "c = cv2.imread('images/c.jpg')"
   ]
  },
  {
   "cell_type": "code",
   "execution_count": 111,
   "metadata": {},
   "outputs": [],
   "source": [
    "def resizeImage(original: np.ndarray, x_rate: float, y_rate: float) -> np.ndarray:\n",
    "    shape = list(original.shape)\n",
    "    shape[0] = int(shape[0]*x_rate)\n",
    "    shape[1] = int(shape[1]*y_rate)\n",
    "    resized = np.zeros(shape)\n",
    "    for i in range(shape[0]):\n",
    "        for j in range(shape[1]):\n",
    "            orig_i, orig_j = int(i/x_rate),int(j/y_rate)\n",
    "            resized[i][j] = [*original[orig_i][orig_j]]\n",
    "    return resized\n"
   ]
  },
  {
   "cell_type": "code",
   "execution_count": 112,
   "metadata": {},
   "outputs": [
    {
     "data": {
      "text/plain": [
       "True"
      ]
     },
     "execution_count": 112,
     "metadata": {},
     "output_type": "execute_result"
    }
   ],
   "source": [
    "a_resized = resizeImage(a, .5, .5)\n",
    "cv2.imwrite('images/a_resized.jpg', a_resized)\n",
    "b_resized = resizeImage(b, 2, 2)\n",
    "cv2.imwrite('images/b_resized.jpg', b_resized)\n",
    "c_resized = resizeImage(c, 2, 2)\n",
    "cv2.imwrite('images/c_resized.jpg', c_resized)"
   ]
  },
  {
   "cell_type": "code",
   "execution_count": null,
   "metadata": {},
   "outputs": [],
   "source": []
  }
 ],
 "metadata": {
  "kernelspec": {
   "display_name": "venv",
   "language": "python",
   "name": "python3"
  },
  "language_info": {
   "codemirror_mode": {
    "name": "ipython",
    "version": 3
   },
   "file_extension": ".py",
   "mimetype": "text/x-python",
   "name": "python",
   "nbconvert_exporter": "python",
   "pygments_lexer": "ipython3",
   "version": "3.8.10"
  },
  "orig_nbformat": 4,
  "vscode": {
   "interpreter": {
    "hash": "9d28dfbdd864a6be49342349cf0f8414a21fdcf814786658a22b22d58aa92548"
   }
  }
 },
 "nbformat": 4,
 "nbformat_minor": 2
}
