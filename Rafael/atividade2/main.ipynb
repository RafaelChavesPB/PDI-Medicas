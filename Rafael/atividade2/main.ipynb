{
 "cells": [
  {
   "cell_type": "code",
   "execution_count": 26,
   "metadata": {},
   "outputs": [],
   "source": [
    "import cv2\n",
    "import numpy as np\n",
    "from statistics import mean, median, mode"
   ]
  },
  {
   "cell_type": "code",
   "execution_count": 27,
   "metadata": {},
   "outputs": [],
   "source": [
    "def calculateSpatialInfo(img: np.ndarray) -> float:\n",
    "    \"\"\"\n",
    "    Calculate spatial information from a grayscale image using Sobel filters.\n",
    "\n",
    "    Args:\n",
    "        img: A grayscale image as a numpy array.\n",
    "\n",
    "    Returns:\n",
    "        The spatial information as a float.\n",
    "    \"\"\"\n",
    "    sh = cv2.Sobel(img, cv2.CV_64F, 1, 0, ksize=1)\n",
    "    sv = cv2.Sobel(img, cv2.CV_64F, 0, 1, ksize=1)\n",
    "\n",
    "    sobel_image = np.sqrt(np.square(sh) + np.square(sv))\n",
    "\n",
    "    si_mean = np.sum(sobel_image) / (sobel_image.shape[0] * sobel_image.shape[1])\n",
    "    si_rms = np.sqrt(np.sum(sobel_image ** 2) / (sobel_image.shape[0] * sobel_image.shape[1]))\n",
    "    si_stdev = np.sqrt(np.sum(sobel_image ** 2 - si_mean ** 2) / (sobel_image.shape[0] * sobel_image.shape[1]))\n",
    "\n",
    "    return si_stdev"
   ]
  },
  {
   "cell_type": "code",
   "execution_count": 28,
   "metadata": {},
   "outputs": [],
   "source": [
    "def getNeighbour(image: np.ndarray, i: int, j: int) -> list:\n",
    "    neighbour = [[], [], []]\n",
    "    shape = image.shape\n",
    "    for di, dj in [(0, 1), (0, -1), (1, 0), (-1, 0), (1, 1), (-1, -1), (1, -1), (-1, 1)]:\n",
    "        curr_i = i + di\n",
    "        curr_j = j + dj\n",
    "        if curr_i < 0 or curr_i >= shape[0]:\n",
    "            continue\n",
    "        if curr_j < 0 or curr_j >= shape[1]:\n",
    "            continue\n",
    "        for color in [0, 1, 2]:\n",
    "            neighbour[color].append(image[curr_i][curr_j][color])\n",
    "    return neighbour\n"
   ]
  },
  {
   "cell_type": "code",
   "execution_count": 29,
   "metadata": {},
   "outputs": [],
   "source": [
    "def polishingImage(resized: np.ndarray, func: callable) -> np.ndarray:\n",
    "    shape = resized.shape\n",
    "    polished = np.zeros(shape)\n",
    "    for i in range(shape[0]):\n",
    "        for j in range(shape[1]):\n",
    "            neighbour = getNeighbour(resized, i, j)\n",
    "            polished[i][j] = [func(neighbour[0]), func(neighbour[1]), func(neighbour[2])]\n",
    "    return polished"
   ]
  },
  {
   "cell_type": "code",
   "execution_count": 30,
   "metadata": {},
   "outputs": [],
   "source": [
    "def resizeImage(original: np.ndarray, x_rate: float, y_rate: float, func: callable = None) -> np.ndarray:\n",
    "    shape = list(original.shape)\n",
    "    shape[0] = int(shape[0]*x_rate)\n",
    "    shape[1] = int(shape[1]*y_rate)\n",
    "    resized = np.zeros(shape)\n",
    "    for i in range(shape[0]):\n",
    "        for j in range(shape[1]):\n",
    "            orig_i, orig_j = int(i/x_rate),int(j/y_rate)\n",
    "            if func:\n",
    "                neighbour = getNeighbour(original, orig_i, orig_j)\n",
    "                resized[i][j] = [func(neighbour[0]), func(neighbour[1]), func(neighbour[2])]\n",
    "            else:\n",
    "                resized[i][j] = [*original[orig_i][orig_j]]\n",
    "            \n",
    "    return resized\n"
   ]
  },
  {
   "cell_type": "code",
   "execution_count": 31,
   "metadata": {},
   "outputs": [],
   "source": [
    "def calculateSimilarity(original, image, name):\n",
    "    # psnr = cv2.PSNR(original, image)\n",
    "    ssim = cv2.SSIM(original, image)\n",
    "    print(f'Similarity between original and {name}: -> PSNR {psnr} -> ssim {ssim}')"
   ]
  },
  {
   "cell_type": "code",
   "execution_count": 32,
   "metadata": {},
   "outputs": [],
   "source": [
    "original_images = ['a', 'b', 'c']"
   ]
  },
  {
   "cell_type": "code",
   "execution_count": 33,
   "metadata": {},
   "outputs": [
    {
     "name": "stdout",
     "output_type": "stream",
     "text": [
      "Spatial info of a: 20.65579411743317\n",
      "Spatial info of b: 23.20730158646722\n",
      "Spatial info of c: 45.468247897791535\n"
     ]
    }
   ],
   "source": [
    "# Calculate images spatial info\n",
    "images = {}\n",
    "for letter in original_images:\n",
    "    name = letter+'_gray'\n",
    "    images[name] = cv2.imread(f'images/{letter}.jpg',cv2.IMREAD_GRAYSCALE)\n",
    "    print(f'Spatial info of {letter}: {calculateSpatialInfo(images[name])}')"
   ]
  },
  {
   "cell_type": "code",
   "execution_count": 34,
   "metadata": {},
   "outputs": [],
   "source": [
    "# Obtain resized images the was polished based in the original images\n",
    "for letter in original_images:\n",
    "    name = f'{letter}_resized_polished'\n",
    "    images[letter] = cv2.imread(f'images/{letter}.jpg')\n",
    "    images[name] = resizeImage(images[letter], 2, 2, mean)\n",
    "    \n"
   ]
  },
  {
   "cell_type": "code",
   "execution_count": 35,
   "metadata": {},
   "outputs": [],
   "source": [
    "# Obtain polished images the was polished based in the resized images\n",
    "for letter in original_images:\n",
    "    name = f'{letter}_resized'\n",
    "    pol_name = f'{letter}_polished'\n",
    "    images[name] = resizeImage(images[letter], 2, 2)\n",
    "    images[pol_name] = polishingImage(images[name], mean)\n"
   ]
  },
  {
   "cell_type": "code",
   "execution_count": 36,
   "metadata": {},
   "outputs": [],
   "source": [
    "for name in original_images:\n",
    "    images.pop(name)\n",
    "    \n",
    "for name in images:\n",
    "    cv2.imwrite(f'images/{name}.jpg', images[name])"
   ]
  },
  {
   "cell_type": "code",
   "execution_count": 43,
   "metadata": {},
   "outputs": [
    {
     "ename": "error",
     "evalue": "OpenCV(4.7.0) /io/opencv/modules/core/src/norm.cpp:1279: error: (-215:Assertion failed) _src1.type() == _src2.type() in function 'PSNR'\n",
     "output_type": "error",
     "traceback": [
      "\u001b[0;31m---------------------------------------------------------------------------\u001b[0m",
      "\u001b[0;31merror\u001b[0m                                     Traceback (most recent call last)",
      "Cell \u001b[0;32mIn[43], line 6\u001b[0m\n\u001b[1;32m      3\u001b[0m names \u001b[39m=\u001b[39m [\u001b[39mf\u001b[39m\u001b[39m'\u001b[39m\u001b[39m{\u001b[39;00mletter\u001b[39m}\u001b[39;00m\u001b[39m_resized_polished\u001b[39m\u001b[39m'\u001b[39m,\n\u001b[1;32m      4\u001b[0m                \u001b[39mf\u001b[39m\u001b[39m'\u001b[39m\u001b[39m{\u001b[39;00mletter\u001b[39m}\u001b[39;00m\u001b[39m_resized\u001b[39m\u001b[39m'\u001b[39m, \u001b[39mf\u001b[39m\u001b[39m'\u001b[39m\u001b[39m{\u001b[39;00mletter\u001b[39m}\u001b[39;00m\u001b[39m_polished\u001b[39m\u001b[39m'\u001b[39m]\n\u001b[1;32m      5\u001b[0m \u001b[39mfor\u001b[39;00m name \u001b[39min\u001b[39;00m names:\n\u001b[0;32m----> 6\u001b[0m     calculateSimilarity(original_resized, images[name], name)\n",
      "Cell \u001b[0;32mIn[31], line 2\u001b[0m, in \u001b[0;36mcalculateSimilarity\u001b[0;34m(original, image, name)\u001b[0m\n\u001b[1;32m      1\u001b[0m \u001b[39mdef\u001b[39;00m \u001b[39mcalculateSimilarity\u001b[39m(original, image, name):\n\u001b[0;32m----> 2\u001b[0m     psnr \u001b[39m=\u001b[39m cv2\u001b[39m.\u001b[39;49mPSNR(original, image)\n\u001b[1;32m      3\u001b[0m     ssim \u001b[39m=\u001b[39m cv2\u001b[39m.\u001b[39mSSIM(original, image)\n\u001b[1;32m      4\u001b[0m     \u001b[39mprint\u001b[39m(\u001b[39mf\u001b[39m\u001b[39m'\u001b[39m\u001b[39mSimilarity between original and \u001b[39m\u001b[39m{\u001b[39;00mname\u001b[39m}\u001b[39;00m\u001b[39m: -> PSNR \u001b[39m\u001b[39m{\u001b[39;00mpsnr\u001b[39m}\u001b[39;00m\u001b[39m -> ssim \u001b[39m\u001b[39m{\u001b[39;00mssim\u001b[39m}\u001b[39;00m\u001b[39m'\u001b[39m)\n",
      "\u001b[0;31merror\u001b[0m: OpenCV(4.7.0) /io/opencv/modules/core/src/norm.cpp:1279: error: (-215:Assertion failed) _src1.type() == _src2.type() in function 'PSNR'\n"
     ]
    }
   ],
   "source": [
    "for letter in original_images:\n",
    "    original_resized = cv2.imread(f'images/{letter}_original_resized.jpg')\n",
    "    names = [f'{letter}_resized_polished',\n",
    "                   f'{letter}_resized', f'{letter}_polished']\n",
    "    for name in names:\n",
    "        calculateSimilarity(original_resized, images[name], name)\n"
   ]
  }
 ],
 "metadata": {
  "kernelspec": {
   "display_name": "venv",
   "language": "python",
   "name": "python3"
  },
  "language_info": {
   "codemirror_mode": {
    "name": "ipython",
    "version": 3
   },
   "file_extension": ".py",
   "mimetype": "text/x-python",
   "name": "python",
   "nbconvert_exporter": "python",
   "pygments_lexer": "ipython3",
   "version": "3.8.10"
  },
  "orig_nbformat": 4,
  "vscode": {
   "interpreter": {
    "hash": "9d28dfbdd864a6be49342349cf0f8414a21fdcf814786658a22b22d58aa92548"
   }
  }
 },
 "nbformat": 4,
 "nbformat_minor": 2
}
