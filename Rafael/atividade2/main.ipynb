{
 "cells": [
  {
   "cell_type": "code",
   "execution_count": 20,
   "metadata": {},
   "outputs": [],
   "source": [
    "import cv2\n",
    "import numpy as np\n",
    "from skimage.metrics import structural_similarity\n",
    "from statistics import mean, mode"
   ]
  },
  {
   "cell_type": "code",
   "execution_count": 2,
   "metadata": {},
   "outputs": [],
   "source": [
    "def median(arr):\n",
    "    arr = list(map(int, arr))\n",
    "    size = len(arr)\n",
    "    if size % 2:\n",
    "        return arr[size//2]\n",
    "    if size != 0:\n",
    "        return (arr[size//2]+arr[size//2+1])//2\n",
    "    return 0"
   ]
  },
  {
   "cell_type": "code",
   "execution_count": 3,
   "metadata": {},
   "outputs": [],
   "source": [
    "def calculateSpatialInfo(img: np.ndarray) -> float:\n",
    "    \"\"\"\n",
    "    Calculate spatial information from a grayscale image using Sobel filters.\n",
    "\n",
    "    Args:\n",
    "        img: A grayscale image as a numpy array.\n",
    "\n",
    "    Returns:\n",
    "        The spatial information as a float.\n",
    "    \"\"\"\n",
    "    sh = cv2.Sobel(img, cv2.CV_64F, 1, 0, ksize=1)\n",
    "    sv = cv2.Sobel(img, cv2.CV_64F, 0, 1, ksize=1)\n",
    "\n",
    "    sobel_image = np.sqrt(np.square(sh) + np.square(sv))\n",
    "\n",
    "    si_mean = np.sum(sobel_image) / (sobel_image.shape[0] * sobel_image.shape[1])\n",
    "    si_rms = np.sqrt(np.sum(sobel_image ** 2) / (sobel_image.shape[0] * sobel_image.shape[1]))\n",
    "    si_stdev = np.sqrt(np.sum(sobel_image ** 2 - si_mean ** 2) / (sobel_image.shape[0] * sobel_image.shape[1]))\n",
    "\n",
    "    return si_stdev"
   ]
  },
  {
   "cell_type": "code",
   "execution_count": 4,
   "metadata": {},
   "outputs": [],
   "source": [
    "def getNeighbour(image: np.ndarray, i: int, j: int) -> list:\n",
    "    neighbour = [[], [], []]\n",
    "    shape = image.shape\n",
    "    # , (1, 1), (-1, -1), (1, -1), (-1, 1)\n",
    "    for di, dj in [(0,0), (0, 1), (0, -1), (1, 0), (-1, 0)]:\n",
    "        curr_i = i + di\n",
    "        curr_j = j + dj\n",
    "        if curr_i < 0 or curr_i >= shape[0]:\n",
    "            continue\n",
    "        if curr_j < 0 or curr_j >= shape[1]:\n",
    "            continue\n",
    "        for color in [0, 1, 2]:\n",
    "            neighbour[color].append(image[curr_i][curr_j][color])\n",
    "    return neighbour\n"
   ]
  },
  {
   "cell_type": "code",
   "execution_count": 5,
   "metadata": {},
   "outputs": [],
   "source": [
    "def polishingImage(resized: np.ndarray, func: callable) -> np.ndarray:\n",
    "    shape = resized.shape\n",
    "    polished = np.zeros(shape)\n",
    "    for i in range(shape[0]):\n",
    "        for j in range(shape[1]):\n",
    "            neighbour = getNeighbour(resized, i, j)\n",
    "            polished[i][j] = [func(neighbour[0]), func(neighbour[1]), func(neighbour[2])]\n",
    "    return polished"
   ]
  },
  {
   "cell_type": "code",
   "execution_count": 6,
   "metadata": {},
   "outputs": [],
   "source": [
    "def resizeImage(original: np.ndarray, x_rate: float, y_rate: float, func: callable = None) -> np.ndarray:\n",
    "    shape = list(original.shape)\n",
    "    shape[0] = int(shape[0]*x_rate)\n",
    "    shape[1] = int(shape[1]*y_rate)\n",
    "    resized = np.zeros(shape)\n",
    "    for i in range(shape[0]):\n",
    "        for j in range(shape[1]):\n",
    "            orig_i, orig_j = int(i/x_rate),int(j/y_rate)\n",
    "            if func:\n",
    "                neighbour = getNeighbour(original, orig_i, orig_j)\n",
    "                resized[i][j] = [func(neighbour[0]), func(neighbour[1]), func(neighbour[2])]\n",
    "            else:\n",
    "                resized[i][j] = [*original[orig_i][orig_j]]\n",
    "            \n",
    "    return resized\n"
   ]
  },
  {
   "cell_type": "code",
   "execution_count": 7,
   "metadata": {},
   "outputs": [],
   "source": [
    "prefix = 'images/a'\n",
    "original = {}\n",
    "generated = {}"
   ]
  },
  {
   "cell_type": "code",
   "execution_count": 8,
   "metadata": {},
   "outputs": [],
   "source": [
    "original['small'] = cv2.imread(f'{prefix}/small.jpg')\n",
    "original['big'] = cv2.imread(f'{prefix}/big.jpg')\n",
    "original['small_gray'] = cv2.imread(f'{prefix}/small.jpg', cv2.IMREAD_GRAYSCALE)\n",
    "original['big_gray'] = cv2.imread(f'{prefix}/big.jpg', cv2.IMREAD_GRAYSCALE)"
   ]
  },
  {
   "cell_type": "code",
   "execution_count": 9,
   "metadata": {},
   "outputs": [
    {
     "data": {
      "text/plain": [
       "23.20730158646722"
      ]
     },
     "execution_count": 9,
     "metadata": {},
     "output_type": "execute_result"
    }
   ],
   "source": [
    "# Calculate images spatial info\n",
    "spatial_info = calculateSpatialInfo(original['small_gray'])\n",
    "spatial_info"
   ]
  },
  {
   "cell_type": "code",
   "execution_count": 10,
   "metadata": {},
   "outputs": [],
   "source": [
    "## EXPAND\n",
    "# Obtain resized images the was polished based in the original images\n",
    "generated['big_ob_mode'] = resizeImage(original['small'], 2, 2, mode)\n",
    "generated['big_ob_mean'] = resizeImage(original['small'], 2, 2, mean)\n",
    "generated['big_ob_median'] = resizeImage(original['small'], 2, 2, median)\n",
    "# Obtain polished images the was polished based in the resized images\n",
    "generated['big'] = resizeImage(original['small'], 2, 2)\n",
    "generated['big_rb_mode'] = polishingImage(generated['big'], mode)\n",
    "generated['big_rb_mean'] = polishingImage(generated['big'], mean)\n",
    "generated['big_rb_median'] = polishingImage(generated['big'], median)\n",
    "# Using bilinear and bicubic methods\n",
    "shape = original['big'].shape[1::-1]\n",
    "generated['big_bilinear'] = cv2.resize(original['small'], shape, interpolation=cv2.INTER_LINEAR)\n",
    "generated['big_bicubic'] = cv2.resize(original['small'], shape, interpolation=cv2.INTER_CUBIC)"
   ]
  },
  {
   "cell_type": "code",
   "execution_count": 11,
   "metadata": {},
   "outputs": [],
   "source": [
    "## REDUCE\n",
    "# Obtain resized images the was polished based in the original images\n",
    "generated['small_ob_mode'] = resizeImage(original['big'], .5, .5, mode)\n",
    "generated['small_ob_mean'] = resizeImage(original['big'], .5, .5, mean)\n",
    "generated['small_ob_median'] = resizeImage(original['big'], .5, .5, median)\n",
    "# Obtain polished images the was polished based in the resized images\n",
    "generated['small'] = resizeImage(original['big'], .5, .5)\n",
    "generated['small_rb_mode'] = polishingImage(generated['small'], mode)\n",
    "generated['small_rb_mean'] = polishingImage(generated['small'], mean)\n",
    "generated['small_rb_median'] = polishingImage(generated['small'], median)\n",
    "# Using bilinear and bicubic methods\n",
    "shape = original['small'].shape[1::-1]\n",
    "generated['small_bilinear'] = cv2.resize(original['small'], shape, interpolation=cv2.INTER_LINEAR)\n",
    "generated['small_bicubic'] = cv2.resize(original['small'], shape, interpolation=cv2.INTER_CUBIC)"
   ]
  },
  {
   "cell_type": "code",
   "execution_count": 12,
   "metadata": {},
   "outputs": [],
   "source": [
    "for image in generated:\n",
    "    cv2.imwrite(f'{prefix}/generated/{image}.jpg', generated[image])"
   ]
  },
  {
   "cell_type": "code",
   "execution_count": 34,
   "metadata": {},
   "outputs": [],
   "source": [
    "results_big = []\n",
    "results_small = []\n",
    "for image in generated:\n",
    "    generated_gray = cv2.imread(f'{prefix}/generated/{image}.jpg', cv2.IMREAD_GRAYSCALE)\n",
    "    if 'small' in image:\n",
    "        ssim = structural_similarity(original['small_gray'], generated_gray, full=True)[0]\n",
    "        psnr = cv2.PSNR(original['small_gray'], generated_gray)\n",
    "        results_small.append((psnr, ssim, image))\n",
    "    else:\n",
    "        ssim = structural_similarity(original['big_gray'], generated_gray, full=True)[0]\n",
    "        psnr = cv2.PSNR(original['big_gray'], generated_gray)\n",
    "        results_big.append((psnr, ssim, image))"
   ]
  },
  {
   "cell_type": "code",
   "execution_count": 39,
   "metadata": {},
   "outputs": [
    {
     "name": "stdout",
     "output_type": "stream",
     "text": [
      "big_bicubic   - PSNR 27.5338 - SSIM  0.7771\n",
      "big_rb_mean   - PSNR 27.2531 - SSIM  0.7627\n",
      "big_bilinear  - PSNR 27.2291 - SSIM  0.7610\n",
      "big_rb_mode   - PSNR 26.4775 - SSIM  0.7436\n",
      "big           - PSNR 26.4775 - SSIM  0.7436\n",
      "big_ob_mode   - PSNR 26.4291 - SSIM  0.7375\n",
      "big_ob_mean   - PSNR 25.7721 - SSIM  0.6926\n",
      "big_rb_median - PSNR 24.8119 - SSIM  0.6790\n",
      "big_ob_median - PSNR 22.5210 - SSIM  0.5473\n"
     ]
    }
   ],
   "source": [
    "results_big.sort(reverse=True)\n",
    "for psnr, ssim, name in results_big:\n",
    "    print(f'{name:13s} - PSNR {psnr:.4f} - SSIM  {ssim:.4f}' )"
   ]
  },
  {
   "cell_type": "code",
   "execution_count": 40,
   "metadata": {},
   "outputs": [
    {
     "name": "stdout",
     "output_type": "stream",
     "text": [
      "small_bilinear  - PSNR 51.3656 - SSIM  0.9989\n",
      "small_bicubic   - PSNR 51.3656 - SSIM  0.9989\n",
      "small_ob_mean   - PSNR 29.8728 - SSIM  0.8802\n",
      "small_rb_mean   - PSNR 28.5102 - SSIM  0.8582\n",
      "small_rb_mode   - PSNR 26.7543 - SSIM  0.8066\n",
      "small_ob_mode   - PSNR 26.6614 - SSIM  0.8026\n",
      "small           - PSNR 26.4441 - SSIM  0.7925\n",
      "small_ob_median - PSNR 23.6439 - SSIM  0.6730\n",
      "small_rb_median - PSNR 21.6035 - SSIM  0.5328\n"
     ]
    }
   ],
   "source": [
    "results_small.sort(reverse=True)\n",
    "for psnr, ssim, name in results_small:\n",
    "    print(f'{name:15s} - PSNR {psnr:.4f} - SSIM  {ssim:.4f}')"
   ]
  }
 ],
 "metadata": {
  "kernelspec": {
   "display_name": "venv",
   "language": "python",
   "name": "python3"
  },
  "language_info": {
   "codemirror_mode": {
    "name": "ipython",
    "version": 3
   },
   "file_extension": ".py",
   "mimetype": "text/x-python",
   "name": "python",
   "nbconvert_exporter": "python",
   "pygments_lexer": "ipython3",
   "version": "3.8.10"
  },
  "orig_nbformat": 4,
  "vscode": {
   "interpreter": {
    "hash": "9d28dfbdd864a6be49342349cf0f8414a21fdcf814786658a22b22d58aa92548"
   }
  }
 },
 "nbformat": 4,
 "nbformat_minor": 2
}
