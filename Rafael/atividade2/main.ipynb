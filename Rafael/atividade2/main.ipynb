{
 "cells": [
  {
   "cell_type": "code",
   "execution_count": 13,
   "metadata": {},
   "outputs": [],
   "source": [
    "import cv2\n",
    "import numpy as np"
   ]
  },
  {
   "cell_type": "code",
   "execution_count": 14,
   "metadata": {},
   "outputs": [],
   "source": [
    "def calculateSpatialInfo(img: np.ndarray) -> float:\n",
    "    \"\"\"\n",
    "    Calculate spatial information from a grayscale image using Sobel filters.\n",
    "\n",
    "    Args:\n",
    "        img: A grayscale image as a numpy array.\n",
    "\n",
    "    Returns:\n",
    "        The spatial information as a float.\n",
    "    \"\"\"\n",
    "    sh = cv2.Sobel(img, cv2.CV_64F, 1, 0, ksize=1)\n",
    "    sv = cv2.Sobel(img, cv2.CV_64F, 0, 1, ksize=1)\n",
    "\n",
    "    sobel_image = np.sqrt(np.square(sh) + np.square(sv))\n",
    "\n",
    "    si_mean = np.sum(sobel_image) / (sobel_image.shape[0] * sobel_image.shape[1])\n",
    "    si_rms = np.sqrt(np.sum(sobel_image ** 2) / (sobel_image.shape[0] * sobel_image.shape[1]))\n",
    "    si_stdev = np.sqrt(np.sum(sobel_image ** 2 - si_mean ** 2) / (sobel_image.shape[0] * sobel_image.shape[1]))\n",
    "\n",
    "    return si_stdev"
   ]
  },
  {
   "cell_type": "code",
   "execution_count": 15,
   "metadata": {},
   "outputs": [
    {
     "name": "stdout",
     "output_type": "stream",
     "text": [
      "Spatial Info of A: 29.988785893444604\n",
      "Spatial Info of B: 13.580894199461785\n",
      "Spatial Info of C: 5.99936275044091\n"
     ]
    }
   ],
   "source": [
    "a = cv2.imread('images/a.jpg',cv2.IMREAD_GRAYSCALE)\n",
    "b = cv2.imread('images/b.jpg',cv2.IMREAD_GRAYSCALE)\n",
    "c = cv2.imread('images/c.jpg',cv2.IMREAD_GRAYSCALE)\n",
    "print(f'Spatial Info of A: {calculateSpatialInfo(a)}')\n",
    "print(f'Spatial Info of B: {calculateSpatialInfo(b)}')\n",
    "print(f'Spatial Info of C: {calculateSpatialInfo(c)}')"
   ]
  }
 ],
 "metadata": {
  "kernelspec": {
   "display_name": "venv",
   "language": "python",
   "name": "python3"
  },
  "language_info": {
   "codemirror_mode": {
    "name": "ipython",
    "version": 3
   },
   "file_extension": ".py",
   "mimetype": "text/x-python",
   "name": "python",
   "nbconvert_exporter": "python",
   "pygments_lexer": "ipython3",
   "version": "3.8.10"
  },
  "orig_nbformat": 4,
  "vscode": {
   "interpreter": {
    "hash": "9d28dfbdd864a6be49342349cf0f8414a21fdcf814786658a22b22d58aa92548"
   }
  }
 },
 "nbformat": 4,
 "nbformat_minor": 2
}
