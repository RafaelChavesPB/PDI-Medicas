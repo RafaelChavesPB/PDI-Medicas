{
 "cells": [
  {
   "cell_type": "code",
   "execution_count": 144,
   "metadata": {},
   "outputs": [],
   "source": [
    "import cv2\n",
    "import numpy as np\n",
    "from statistics import mean, mode"
   ]
  },
  {
   "cell_type": "code",
   "execution_count": 145,
   "metadata": {},
   "outputs": [],
   "source": [
    "def median(arr):\n",
    "    arr = list(map(int, arr))\n",
    "    size = len(arr)\n",
    "    if size % 2:\n",
    "        return arr[size//2]\n",
    "    if size != 0:\n",
    "        return (arr[size//2]+arr[size//2+1])//2\n",
    "    return 0"
   ]
  },
  {
   "cell_type": "code",
   "execution_count": 146,
   "metadata": {},
   "outputs": [],
   "source": [
    "def calculateSpatialInfo(img: np.ndarray) -> float:\n",
    "    \"\"\"\n",
    "    Calculate spatial information from a grayscale image using Sobel filters.\n",
    "\n",
    "    Args:\n",
    "        img: A grayscale image as a numpy array.\n",
    "\n",
    "    Returns:\n",
    "        The spatial information as a float.\n",
    "    \"\"\"\n",
    "    sh = cv2.Sobel(img, cv2.CV_64F, 1, 0, ksize=1)\n",
    "    sv = cv2.Sobel(img, cv2.CV_64F, 0, 1, ksize=1)\n",
    "\n",
    "    sobel_image = np.sqrt(np.square(sh) + np.square(sv))\n",
    "\n",
    "    si_mean = np.sum(sobel_image) / (sobel_image.shape[0] * sobel_image.shape[1])\n",
    "    si_rms = np.sqrt(np.sum(sobel_image ** 2) / (sobel_image.shape[0] * sobel_image.shape[1]))\n",
    "    si_stdev = np.sqrt(np.sum(sobel_image ** 2 - si_mean ** 2) / (sobel_image.shape[0] * sobel_image.shape[1]))\n",
    "\n",
    "    return si_stdev"
   ]
  },
  {
   "cell_type": "code",
   "execution_count": 147,
   "metadata": {},
   "outputs": [],
   "source": [
    "def getNeighbour(image: np.ndarray, i: int, j: int) -> list:\n",
    "    neighbour = [[], [], []]\n",
    "    shape = image.shape\n",
    "    for di, dj in [(0, 1), (0, -1), (1, 0), (-1, 0), (1, 1), (-1, -1), (1, -1), (-1, 1)]:\n",
    "        curr_i = i + di\n",
    "        curr_j = j + dj\n",
    "        if curr_i < 0 or curr_i >= shape[0]:\n",
    "            continue\n",
    "        if curr_j < 0 or curr_j >= shape[1]:\n",
    "            continue\n",
    "        for color in [0, 1, 2]:\n",
    "            neighbour[color].append(image[curr_i][curr_j][color])\n",
    "    return neighbour\n"
   ]
  },
  {
   "cell_type": "code",
   "execution_count": 148,
   "metadata": {},
   "outputs": [],
   "source": [
    "def polishingImage(resized: np.ndarray, func: callable) -> np.ndarray:\n",
    "    shape = resized.shape\n",
    "    polished = np.zeros(shape)\n",
    "    for i in range(shape[0]):\n",
    "        for j in range(shape[1]):\n",
    "            neighbour = getNeighbour(resized, i, j)\n",
    "            polished[i][j] = [func(neighbour[0]), func(neighbour[1]), func(neighbour[2])]\n",
    "    return polished"
   ]
  },
  {
   "cell_type": "code",
   "execution_count": 149,
   "metadata": {},
   "outputs": [],
   "source": [
    "def resizeImage(original: np.ndarray, x_rate: float, y_rate: float, func: callable = None) -> np.ndarray:\n",
    "    shape = list(original.shape)\n",
    "    shape[0] = int(shape[0]*x_rate)\n",
    "    shape[1] = int(shape[1]*y_rate)\n",
    "    resized = np.zeros(shape)\n",
    "    for i in range(shape[0]):\n",
    "        for j in range(shape[1]):\n",
    "            orig_i, orig_j = int(i/x_rate),int(j/y_rate)\n",
    "            if func:\n",
    "                neighbour = getNeighbour(original, orig_i, orig_j)\n",
    "                resized[i][j] = [func(neighbour[0]), func(neighbour[1]), func(neighbour[2])]\n",
    "            else:\n",
    "                resized[i][j] = [*original[orig_i][orig_j]]\n",
    "            \n",
    "    return resized\n"
   ]
  },
  {
   "cell_type": "code",
   "execution_count": 150,
   "metadata": {},
   "outputs": [],
   "source": [
    "prefix = 'images/c'\n",
    "original = {}\n",
    "generated = {}"
   ]
  },
  {
   "cell_type": "code",
   "execution_count": 151,
   "metadata": {},
   "outputs": [],
   "source": [
    "original['normal'] = cv2.imread(f'{prefix}/normal.jpg')\n",
    "original['big'] = cv2.imread(f'{prefix}/big.jpg')\n",
    "original['normal_gray'] = cv2.imread(f'{prefix}/normal.jpg', cv2.IMREAD_GRAYSCALE)\n",
    "original['big_gray'] = cv2.imread(f'{prefix}/big.jpg', cv2.IMREAD_GRAYSCALE)"
   ]
  },
  {
   "cell_type": "code",
   "execution_count": 152,
   "metadata": {},
   "outputs": [
    {
     "data": {
      "text/plain": [
       "45.468247897791535"
      ]
     },
     "execution_count": 152,
     "metadata": {},
     "output_type": "execute_result"
    }
   ],
   "source": [
    "# Calculate images spatial info\n",
    "spatial_info = calculateSpatialInfo(original['normal_gray'])\n",
    "spatial_info\n"
   ]
  },
  {
   "cell_type": "code",
   "execution_count": 153,
   "metadata": {},
   "outputs": [
    {
     "name": "stderr",
     "output_type": "stream",
     "text": [
      "/tmp/ipykernel_25818/2493974170.py:6: RuntimeWarning: overflow encountered in scalar add\n",
      "  return (arr[size//2]+arr[size//2+1])//2\n"
     ]
    }
   ],
   "source": [
    "# Obtain resized images the was polished based in the original images\n",
    "generated['big_ob_mode'] = resizeImage(original['normal'], 2, 2, mode)\n",
    "generated['big_ob_mean'] = resizeImage(original['normal'], 2, 2, mean)\n",
    "generated['big_ob_median'] = resizeImage(original['normal'], 2, 2, median)"
   ]
  },
  {
   "cell_type": "code",
   "execution_count": 154,
   "metadata": {},
   "outputs": [],
   "source": [
    "# Obtain polished images the was polished based in the resized images\n",
    "generated['big'] = resizeImage(original['normal'], 2, 2)\n",
    "generated['big_rb_mode'] = polishingImage(generated['big'], mode)\n",
    "generated['big_rb_mean'] = polishingImage(generated['big'], mean)\n",
    "generated['big_rb_median'] = polishingImage(generated['big'], median)"
   ]
  },
  {
   "cell_type": "code",
   "execution_count": 155,
   "metadata": {},
   "outputs": [],
   "source": [
    "for image in generated:\n",
    "    cv2.imwrite(f'{prefix}/generated/{image}.jpg', generated[image])"
   ]
  },
  {
   "cell_type": "code",
   "execution_count": 156,
   "metadata": {},
   "outputs": [],
   "source": [
    "results = []\n",
    "for image in generated:\n",
    "    generated_gray = cv2.imread(f'{prefix}/generated/{image}.jpg', cv2.IMREAD_GRAYSCALE)\n",
    "    results.append((cv2.PSNR(original['big_gray'], generated_gray), image))"
   ]
  },
  {
   "cell_type": "code",
   "execution_count": 158,
   "metadata": {},
   "outputs": [
    {
     "name": "stdout",
     "output_type": "stream",
     "text": [
      "big_rb_mean  : PSNR 22.5763\n",
      "big_rb_mode  : PSNR 22.4182\n",
      "big          : PSNR 22.3938\n",
      "big_rb_median: PSNR 21.2658\n",
      "big_ob_mean  : PSNR 19.7491\n",
      "big_ob_mode  : PSNR 18.7909\n",
      "big_ob_median: PSNR 6.3367\n"
     ]
    }
   ],
   "source": [
    "results.sort(reverse=True)\n",
    "for psnr,name in results:\n",
    "    print(f'{name:13s}: PSNR {psnr:.4f}')"
   ]
  }
 ],
 "metadata": {
  "kernelspec": {
   "display_name": "venv",
   "language": "python",
   "name": "python3"
  },
  "language_info": {
   "codemirror_mode": {
    "name": "ipython",
    "version": 3
   },
   "file_extension": ".py",
   "mimetype": "text/x-python",
   "name": "python",
   "nbconvert_exporter": "python",
   "pygments_lexer": "ipython3",
   "version": "3.8.10"
  },
  "orig_nbformat": 4,
  "vscode": {
   "interpreter": {
    "hash": "9d28dfbdd864a6be49342349cf0f8414a21fdcf814786658a22b22d58aa92548"
   }
  }
 },
 "nbformat": 4,
 "nbformat_minor": 2
}
